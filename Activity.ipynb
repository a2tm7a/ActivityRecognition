{
 "cells": [
  {
   "cell_type": "code",
   "execution_count": 11,
   "metadata": {
    "collapsed": true
   },
   "outputs": [],
   "source": [
    "import pandas as pd\n",
    "import numpy as np"
   ]
  },
  {
   "cell_type": "code",
   "execution_count": 12,
   "metadata": {
    "collapsed": true
   },
   "outputs": [],
   "source": [
    "#np.set_printoptions(threshold=np.nan)"
   ]
  },
  {
   "cell_type": "code",
   "execution_count": 13,
   "metadata": {
    "collapsed": false
   },
   "outputs": [
    {
     "name": "stdout",
     "output_type": "stream",
     "text": [
      "['Participant_1.csv', 'Participant_10.csv', 'Participant_2.csv', 'Participant_3.csv', 'Participant_4.csv', 'Participant_5.csv', 'Participant_6.csv', 'Participant_7.csv', 'Participant_8.csv', 'Participant_9.csv']\n"
     ]
    }
   ],
   "source": [
    "files=[]\n",
    "import os\n",
    "for file in os.listdir(\"./DataSet\"):\n",
    "    if file.endswith(\".csv\"):\n",
    "        files.append(file)\n",
    "files.sort()\n",
    "print(files)\n",
    "    "
   ]
  },
  {
   "cell_type": "markdown",
   "metadata": {},
   "source": [
    "# FORMATTING THE DATA"
   ]
  },
  {
   "cell_type": "code",
   "execution_count": null,
   "metadata": {
    "collapsed": false,
    "scrolled": false
   },
   "outputs": [
    {
     "name": "stdout",
     "output_type": "stream",
     "text": [
      "Participant_1.csv\n"
     ]
    },
    {
     "name": "stderr",
     "output_type": "stream",
     "text": [
      "/usr/local/lib/python3.5/dist-packages/ipykernel/__main__.py:23: FutureWarning: comparison to `None` will result in an elementwise object comparison in the future.\n"
     ]
    },
    {
     "name": "stdout",
     "output_type": "stream",
     "text": [
      "(315000, 13)\n",
      "Clubbing data\n"
     ]
    },
    {
     "name": "stderr",
     "output_type": "stream",
     "text": [
      "/usr/local/lib/python3.5/dist-packages/ipykernel/__main__.py:42: FutureWarning: comparison to `None` will result in an elementwise object comparison in the future.\n"
     ]
    },
    {
     "name": "stdout",
     "output_type": "stream",
     "text": [
      "8905 2\n",
      "17905 3\n"
     ]
    }
   ],
   "source": [
    "mapping = {'walking': 1, 'standing': 2, 'jogging': 3, 'sitting': 4, 'biking': 5, 'upstairs': 6, 'downstairs': 7}\n",
    "\n",
    "training_data=None\n",
    "training_output=None\n",
    "testing_data=None\n",
    "testing_output=None\n",
    "\n",
    "ratio=7\n",
    "\n",
    "count=0\n",
    "for file in files:\n",
    "    count+=1\n",
    "    df = pd.read_csv('./DataSet/'+file, index_col=False, header=1);  \n",
    "    #print(df.describe())\n",
    "    print(file)\n",
    "    data=None\n",
    "    for i in range(1,6):\n",
    "        dff=df.ix[:,14*i-13:14*i-1]\n",
    "        dff['activity'] = df['Activity']\n",
    "        \n",
    "        dff=dff.replace({'activity': mapping})\n",
    "        \n",
    "        if data==None:\n",
    "            data=dff.as_matrix()\n",
    "        else:\n",
    "            data=np.append(data,dff.as_matrix(),axis=0)\n",
    "\n",
    "    print(data.shape)\n",
    "    #print(data)\n",
    "    \n",
    "    linear_data_x=None\n",
    "    linear_data_y=None\n",
    "    window_size=100\n",
    "    window_shift=5\n",
    "    label = 1\n",
    "    index=0\n",
    "    data_flag = False\n",
    "    \n",
    "    print(\"Clubbing data\")\n",
    "    while data_flag!=True:\n",
    "        while data[index+window_size -1][12] == label and data_flag!=True:\n",
    "            if linear_data_x==None:\n",
    "                linear_data_x = data[i:i+window_size,:12].ravel()\n",
    "                linear_data_y = label\n",
    "            else:\n",
    "                linear_data_x = np.vstack((linear_data_x,data[i:i+window_size,:12].ravel()))\n",
    "                linear_data_y = np.hstack((linear_data_y,label))\n",
    "            \n",
    "            index+=window_shift\n",
    "            \n",
    "            if index>= data.shape[0] or index+window_size>=data.shape[0]:\n",
    "                data_flag=True\n",
    "        \n",
    "        label+=1\n",
    "        print(index,label)\n",
    "        #print(label)\n",
    "        \n",
    "        if label == 8 or data_flag==True:\n",
    "            data_flag=True\n",
    "        \n",
    "        else:\n",
    "            #print(label,data[index][12])\n",
    "            while data[index][12] != label:\n",
    "                index+=1\n",
    "                #if index%1000 == 0:\n",
    "                    #print(index,data[index][12],label)\n",
    "    \n",
    "    #print(count)\n",
    "    if count<=ratio:\n",
    "        if training_data==None:\n",
    "            training_data=linear_data_x\n",
    "            training_output=linear_data_y\n",
    "        else:\n",
    "            training_data=np.vstack((training_data,linear_data_x))\n",
    "            training_output=np.append(training_output,linear_data_y)\n",
    "    else:\n",
    "        if testing_data==None:\n",
    "            testing_data=linear_data_x\n",
    "            testing_output=linear_data_y\n",
    "        else:\n",
    "            testing_data=np.vstack((testing_data,linear_data_x))\n",
    "            testing_output=np.append(testing_output,linear_data_y)\n",
    "\n",
    "    print(training_data.shape,training_output.shape)\n",
    "    if testing_data!=None:\n",
    "        print(testing_data.shape,testing_output.shape)\n"
   ]
  },
  {
   "cell_type": "code",
   "execution_count": null,
   "metadata": {
    "collapsed": false
   },
   "outputs": [],
   "source": []
  },
  {
   "cell_type": "code",
   "execution_count": null,
   "metadata": {
    "collapsed": true
   },
   "outputs": [],
   "source": []
  },
  {
   "cell_type": "code",
   "execution_count": null,
   "metadata": {
    "collapsed": true
   },
   "outputs": [],
   "source": []
  }
 ],
 "metadata": {
  "kernelspec": {
   "display_name": "Python 3",
   "language": "python",
   "name": "python3"
  },
  "language_info": {
   "codemirror_mode": {
    "name": "ipython",
    "version": 3
   },
   "file_extension": ".py",
   "mimetype": "text/x-python",
   "name": "python",
   "nbconvert_exporter": "python",
   "pygments_lexer": "ipython3",
   "version": "3.5.2"
  }
 },
 "nbformat": 4,
 "nbformat_minor": 1
}
