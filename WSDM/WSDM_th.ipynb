{
 "metadata": {
  "kernelspec": {
   "display_name": "Python 2",
   "language": "python",
   "name": "python2"
  },
  "language_info": {
   "codemirror_mode": {
    "name": "ipython",
    "version": 2
   },
   "file_extension": ".py",
   "mimetype": "text/x-python",
   "name": "python",
   "nbconvert_exporter": "python",
   "pygments_lexer": "ipython2",
   "version": "2.7.12"
  },
  "name": "",
  "signature": "sha256:0206678791d57c4aade72cf091e6efc322c3028bc61d67c5e99623f9d6f123a1"
 },
 "nbformat": 3,
 "nbformat_minor": 0,
 "worksheets": [
  {
   "cells": [
    {
     "cell_type": "code",
     "collapsed": false,
     "input": [
      "import h5py\n",
      "import numpy as np\n",
      "from keras.datasets import mnist\n",
      "from keras.models import Sequential\n",
      "from keras.layers import Dense, Dropout, Activation, Flatten\n",
      "from keras.layers import Convolution2D, MaxPooling2D\n",
      "from keras.utils import np_utils\n",
      "from keras import backend as K\n",
      "from __future__ import print_function\n",
      "from keras.optimizers import SGD\n",
      "h5f = h5py.File('preprocessed_data_WSDM.h5','r')\n",
      "segments = h5f['data'][:]\n",
      "labels= h5f['output'][:]\n",
      "print(segments.shape, labels.shape)\n",
      "h5f.close()"
     ],
     "language": "python",
     "metadata": {},
     "outputs": [
      {
       "output_type": "stream",
       "stream": "stdout",
       "text": [
        "(24403, 90, 3) (24403, 6)\n"
       ]
      }
     ],
     "prompt_number": 14
    },
    {
     "cell_type": "code",
     "collapsed": false,
     "input": [
      "print(len(segments))\n",
      "print(labels.shape)\n",
      "\n",
      "if K.image_dim_ordering() == 'th':\n",
      "    reshaped_segments = segments.reshape(len(segments), 1,90, 3)\n",
      "    input_shape = (1, 90, 3)\n",
      "else:\n",
      "    reshaped_segments = segments.reshape(len(segments),90, 3,1)\n",
      "    input_shape = (90, 3, 1)\n",
      "\n",
      "reshaped_segments = segments.reshape(len(segments), input_shape[0],input_shape[1],input_shape[2])"
     ],
     "language": "python",
     "metadata": {},
     "outputs": [
      {
       "output_type": "stream",
       "stream": "stdout",
       "text": [
        "24403\n",
        "(24403, 6)\n"
       ]
      }
     ],
     "prompt_number": 15
    },
    {
     "cell_type": "code",
     "collapsed": false,
     "input": [
      "train_test_split = np.random.rand(len(reshaped_segments)) < 0.70\n",
      "print(train_test_split)"
     ],
     "language": "python",
     "metadata": {},
     "outputs": [
      {
       "output_type": "stream",
       "stream": "stdout",
       "text": [
        "[ True  True False ...,  True False  True]\n"
       ]
      }
     ],
     "prompt_number": 16
    },
    {
     "cell_type": "code",
     "collapsed": false,
     "input": [
      "train_x = reshaped_segments[train_test_split]\n",
      "train_y = labels[train_test_split]\n",
      "test_x = reshaped_segments[~train_test_split]\n",
      "test_y = labels[~train_test_split]\n",
      "print(train_x.shape,train_y.shape)"
     ],
     "language": "python",
     "metadata": {},
     "outputs": [
      {
       "output_type": "stream",
       "stream": "stdout",
       "text": [
        "(17028, 90, 3, 1) (17028, 6)\n"
       ]
      }
     ],
     "prompt_number": 17
    },
    {
     "cell_type": "code",
     "collapsed": false,
     "input": [
      "\n",
      "\n",
      "batch_size = 10\n",
      "nb_classes = 6\n",
      "nb_epoch = 10\n",
      "\n",
      "# input image dimensions\n",
      "img_rows, img_cols = 90, 3\n",
      "# number of convolutional filters to use\n",
      "nb_filters = 180\n",
      "# size of pooling area for max pooling\n",
      "pool_size = (20, 1)\n",
      "# convolution kernel size\n",
      "kernel_size = (60, 3)\n",
      "\n",
      "print(train_x.shape)\n",
      "#input_shape=(1,90,3)\n",
      "\n",
      "\n",
      "sgd = SGD(lr=0.0001)\n",
      "\n",
      "accuracy=0\n",
      "lr = 0.0001\n",
      "weights=[]\n",
      "first_run=True\n",
      "flag=True\n",
      "\n",
      "\n",
      "model = Sequential()\n",
      "\n",
      "model.add(Convolution2D(nb_filters, kernel_size[0], kernel_size[1],\n",
      "                        border_mode='valid',\n",
      "                        input_shape=input_shape))\n",
      "model.add(Activation('relu'))\n",
      "model.add(MaxPooling2D(pool_size=pool_size,strides=(2,1)))\n",
      "\n",
      "model.add(Convolution2D(1080, 6, 1,\n",
      "                        border_mode='valid'))\n",
      "model.add(Activation('relu'))\n",
      "#model.add(MaxPooling2D(pool_size=pool_size,strides=(2,1)))\n",
      "\n",
      "model.add(Flatten())\n",
      "# model.add(Dense(128))\n",
      "# model.add(Activation('relu'))\n",
      "# model.add(Dropout(0.5))\n",
      "model.add(Dense(nb_classes))\n",
      "model.add(Activation('softmax'))\n",
      "model.summary()\n",
      "\n",
      "epoch = 1"
     ],
     "language": "python",
     "metadata": {},
     "outputs": [],
     "prompt_number": null
    },
    {
     "cell_type": "code",
     "collapsed": false,
     "input": [
      "while flag:\n",
      "    sgd = SGD(lr=lr)\n",
      "    \n",
      "    model.compile(loss='categorical_crossentropy',\n",
      "                  optimizer=sgd,\n",
      "                  metrics=['accuracy'])\n",
      "\n",
      "    model.fit(train_x, train_y, batch_size=batch_size, nb_epoch=1,\n",
      "              verbose=1, validation_data=(test_x, test_y))\n",
      "    score = model.evaluate(test_x, test_y, verbose=0)\n",
      "    print('Test score:', score[0])\n",
      "    print('Test accuracy:', score[1])\n",
      "    \n",
      "    if first_run:\n",
      "        first_run=False\n",
      "    \n",
      "    if score[1] - accuracy > 0.005:\n",
      "        epoch += 1\n",
      "        # TODO: Save weights\n",
      "        weights=model.\n",
      "    else:\n",
      "        # TODO: Copy previous weighs\n",
      "        lr/=2"
     ],
     "language": "python",
     "metadata": {
      "scrolled": false
     },
     "outputs": [
      {
       "output_type": "stream",
       "stream": "stdout",
       "text": [
        "____________________________________________________________________________________________________\n",
        "Layer (type)                     Output Shape          Param #     Connected to                     \n",
        "====================================================================================================\n",
        "convolution2d_16 (Convolution2D) (None, 31, 1, 180)    32580       convolution2d_input_11[0][0]     \n",
        "____________________________________________________________________________________________________\n",
        "activation_24 (Activation)       (None, 31, 1, 180)    0           convolution2d_16[0][0]           \n",
        "____________________________________________________________________________________________________\n",
        "maxpooling2d_10 (MaxPooling2D)   (None, 6, 1, 180)     0           activation_24[0][0]              \n",
        "____________________________________________________________________________________________________\n",
        "convolution2d_17 (Convolution2D) (None, 1, 1, 1080)    1167480     maxpooling2d_10[0][0]            \n",
        "____________________________________________________________________________________________________\n",
        "activation_25 (Activation)       (None, 1, 1, 1080)    0           convolution2d_17[0][0]           \n",
        "____________________________________________________________________________________________________\n",
        "flatten_9 (Flatten)              (None, 1080)          0           activation_25[0][0]              \n",
        "____________________________________________________________________________________________________\n",
        "dense_9 (Dense)                  (None, 6)             6486        flatten_9[0][0]                  \n",
        "____________________________________________________________________________________________________\n",
        "activation_26 (Activation)       (None, 6)             0           dense_9[0][0]                    \n",
        "====================================================================================================\n",
        "Total params: 1206546\n",
        "____________________________________________________________________________________________________\n",
        "Train on 17028 samples, validate on 7375 samples\n",
        "Epoch 1/10\n",
        "14620/17028 [========================>.....] - ETA: 7s - loss: 1.3576 - acc: 0.3930"
       ]
      }
     ],
     "prompt_number": null
    },
    {
     "cell_type": "code",
     "collapsed": true,
     "input": [],
     "language": "python",
     "metadata": {},
     "outputs": [],
     "prompt_number": null
    },
    {
     "cell_type": "code",
     "collapsed": true,
     "input": [],
     "language": "python",
     "metadata": {},
     "outputs": [],
     "prompt_number": null
    },
    {
     "cell_type": "code",
     "collapsed": true,
     "input": [],
     "language": "python",
     "metadata": {},
     "outputs": [],
     "prompt_number": null
    }
   ],
   "metadata": {}
  }
 ]
}