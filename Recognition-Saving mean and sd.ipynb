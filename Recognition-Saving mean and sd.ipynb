{
 "cells": [
  {
   "cell_type": "code",
   "execution_count": 1,
   "metadata": {
    "collapsed": false
   },
   "outputs": [
    {
     "name": "stderr",
     "output_type": "stream",
     "text": [
      "Using Theano backend.\n"
     ]
    }
   ],
   "source": [
    "import h5py\n",
    "import numpy as np\n",
    "np.random.seed(1337)\n",
    "from keras.optimizers import SGD"
   ]
  },
  {
   "cell_type": "code",
   "execution_count": 2,
   "metadata": {
    "collapsed": false
   },
   "outputs": [
    {
     "name": "stdout",
     "output_type": "stream",
     "text": [
      "(218540, 1200) (218540,) (93660, 1200) (93660,)\n",
      "Concatenating training\n",
      "Deleting training\n",
      "Shuffling training\n",
      "Concatenating testing\n",
      "Deleting testing\n",
      "Shuffling Testing\n",
      "Getting back train data and output\n",
      "Deleting training\n",
      "Getting back test data and output\n",
      "Deleting testing\n",
      "(218540, 1200) (218540,) (93660, 1200) (93660,)\n"
     ]
    }
   ],
   "source": [
    "h5f = h5py.File('preprocessed_data_winSize100_winShift10.h5','r')\n",
    "training_data = h5f['training_data'][:]\n",
    "training_output = h5f['training_output'][:]\n",
    "testing_data = h5f['testing_data'][:]\n",
    "testing_output = h5f['testing_output'][:]\n",
    "\n",
    "print(training_data.shape,training_output.shape,testing_data.shape,testing_output.shape)\n",
    "\n",
    "print(\"Concatenating training\")\n",
    "training = np.concatenate([training_data, training_output.reshape(training_output.shape[0],1)], axis=1)\n",
    "print(\"Deleting training\")\n",
    "del training_data\n",
    "del training_output\n",
    "print(\"Shuffling training\")\n",
    "np.random.shuffle(training)\n",
    "\n",
    "print(\"Concatenating testing\")\n",
    "testing = np.concatenate([testing_data, testing_output.reshape(testing_output.shape[0],1)], axis=1)\n",
    "print(\"Deleting testing\")\n",
    "del testing_data\n",
    "del testing_output\n",
    "print(\"Shuffling Testing\")\n",
    "np.random.shuffle(testing)\n",
    "\n",
    "print(\"Getting back train data and output\")\n",
    "training_data=training[:,:-1]\n",
    "training_output=training[:,-1]\n",
    "print(\"Deleting training\")\n",
    "del training\n",
    "\n",
    "print(\"Getting back test data and output\")\n",
    "testing_data=testing[:,:-1]\n",
    "testing_output=testing[:,-1]\n",
    "print(\"Deleting testing\")\n",
    "del testing\n",
    "\n",
    "print(training_data.shape,training_output.shape,testing_data.shape,testing_output.shape)"
   ]
  },
  {
   "cell_type": "code",
   "execution_count": 8,
   "metadata": {
    "collapsed": true
   },
   "outputs": [],
   "source": [
    "mean = np.mean(training_data,axis=0)\n",
    "sd = np.std(training_data,axis=0)\n",
    "import h5py\n",
    "h5f = h5py.File('preprocessed_data_winSize100_winShift10_mean_sd.h5', 'w')\n",
    "h5f.create_dataset('mean', data=mean)\n",
    "h5f.create_dataset('sd', data=sd)\n",
    "h5f.close()"
   ]
  },
  {
   "cell_type": "code",
   "execution_count": 17,
   "metadata": {
    "collapsed": true
   },
   "outputs": [],
   "source": [
    "h5f = h5py.File('preprocessed_data_winSize100_winShift10_mean_sd.h5','r')\n",
    "mean = h5f['mean'][:]\n",
    "sd = h5f['sd'][:]\n",
    "h5f.close()\n",
    "print(mean,sd)"
   ]
  },
  {
   "cell_type": "code",
   "execution_count": 10,
   "metadata": {
    "collapsed": false
   },
   "outputs": [
    {
     "name": "stderr",
     "output_type": "stream",
     "text": [
      "Using Theano backend.\n",
      "Using gpu device 0: GeForce 840M (CNMeM is disabled, cuDNN 5105)\n",
      "/usr/local/lib/python3.5/dist-packages/theano/sandbox/cuda/__init__.py:600: UserWarning: Your cuDNN version is more recent than the one Theano officially supports. If you see any problems, try updating Theano or downgrading cuDNN to version 5.\n",
      "  warnings.warn(warn)\n"
     ]
    }
   ],
   "source": []
  },
  {
   "cell_type": "code",
   "execution_count": 11,
   "metadata": {
    "collapsed": false
   },
   "outputs": [
    {
     "name": "stderr",
     "output_type": "stream",
     "text": [
      "/usr/local/lib/python3.5/dist-packages/keras/utils/np_utils.py:23: VisibleDeprecationWarning: using a non-integer number instead of an integer will result in an error in the future\n",
      "  Y[i, y[i]] = 1.\n"
     ]
    },
    {
     "name": "stdout",
     "output_type": "stream",
     "text": [
      "(93660, 7)\n"
     ]
    }
   ],
   "source": []
  },
  {
   "cell_type": "code",
   "execution_count": 18,
   "metadata": {
    "collapsed": false
   },
   "outputs": [
    {
     "name": "stdout",
     "output_type": "stream",
     "text": [
      "____________________________________________________________________________________________________\n",
      "Layer (type)                     Output Shape          Param #     Connected to                     \n",
      "====================================================================================================\n",
      "dense_7 (Dense)                  (None, 512)           614912      dense_input_3[0][0]              \n",
      "____________________________________________________________________________________________________\n",
      "activation_7 (Activation)        (None, 512)           0           dense_7[0][0]                    \n",
      "____________________________________________________________________________________________________\n",
      "dropout_5 (Dropout)              (None, 512)           0           activation_7[0][0]               \n",
      "____________________________________________________________________________________________________\n",
      "dense_8 (Dense)                  (None, 7)             3591        dropout_5[0][0]                  \n",
      "____________________________________________________________________________________________________\n",
      "activation_8 (Activation)        (None, 7)             0           dense_8[0][0]                    \n",
      "====================================================================================================\n",
      "Total params: 618503\n",
      "____________________________________________________________________________________________________\n"
     ]
    }
   ],
   "source": []
  },
  {
   "cell_type": "code",
   "execution_count": 19,
   "metadata": {
    "collapsed": false
   },
   "outputs": [
    {
     "name": "stdout",
     "output_type": "stream",
     "text": [
      "Train on 218540 samples, validate on 93660 samples\n",
      "Epoch 1/5\n",
      "218540/218540 [==============================] - 8s - loss: 2.3843 - acc: 0.1423 - val_loss: 1.9593 - val_acc: 0.1431\n",
      "Epoch 2/5\n",
      "218540/218540 [==============================] - 8s - loss: 1.9526 - acc: 0.1422 - val_loss: 1.9512 - val_acc: 0.1427\n",
      "Epoch 3/5\n",
      "218540/218540 [==============================] - 8s - loss: 1.9472 - acc: 0.1432 - val_loss: 1.9468 - val_acc: 0.1427\n",
      "Epoch 4/5\n",
      "218540/218540 [==============================] - 8s - loss: 1.9461 - acc: 0.1423 - val_loss: 1.9473 - val_acc: 0.1427\n",
      "Epoch 5/5\n",
      "218540/218540 [==============================] - 8s - loss: 1.9459 - acc: 0.1413 - val_loss: 1.9473 - val_acc: 0.1427\n",
      "Test score: 1.94725065188\n",
      "Test accuracy: 0.14269698911\n"
     ]
    }
   ],
   "source": []
  },
  {
   "cell_type": "code",
   "execution_count": null,
   "metadata": {
    "collapsed": true
   },
   "outputs": [],
   "source": []
  }
 ],
 "metadata": {
  "kernelspec": {
   "display_name": "Python 3",
   "language": "python",
   "name": "python3"
  },
  "language_info": {
   "codemirror_mode": {
    "name": "ipython",
    "version": 3
   },
   "file_extension": ".py",
   "mimetype": "text/x-python",
   "name": "python",
   "nbconvert_exporter": "python",
   "pygments_lexer": "ipython3",
   "version": "3.5.2"
  }
 },
 "nbformat": 4,
 "nbformat_minor": 1
}
